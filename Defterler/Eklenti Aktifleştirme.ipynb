{
 "cells": [
  {
   "cell_type": "markdown",
   "metadata": {},
   "source": [
    "# Table of Contents\n",
    "* [1. Eklentiyi Kopyalama](#1.-Eklentiyi-Kopyalama)\n",
    "* [2. Eklentiyi Kalıcı Olarak Aktive Etme](#2.-Eklentiyi-Kalıcı-Olarak-Aktive-Etme)\n",
    "* [3. Aktif Eklentileri Listeleme](#3.-Aktif-Eklentileri-Listeleme)\n"
   ]
  },
  {
   "cell_type": "markdown",
   "metadata": {},
   "source": [
    "# Eklentiyi Kopyalama"
   ]
  },
  {
   "cell_type": "code",
   "execution_count": 22,
   "metadata": {
    "collapsed": false,
    "hide_input": false,
    "run_control": {
     "marked": false
    }
   },
   "outputs": [],
   "source": [
    "import IPython.html.nbextensions as nb\n",
    "##ext= 'https://github.com/ipython‐contrib/IPython‐notebook‐extensions/archive/3.x.zip'\n",
    "ext= '/home/fenrihen/Downloads/master.zip'\n",
    "nb.install_nbextension(ext, user=True)"
   ]
  },
  {
   "cell_type": "code",
   "execution_count": 7,
   "metadata": {
    "collapsed": false,
    "hide_input": false,
    "run_control": {
     "marked": false
    }
   },
   "outputs": [],
   "source": [
    "import IPython.html.nbextensions as nb\n",
    "##ext= 'https://github.com/ipython‐contrib/IPython‐notebook‐extensions/archive/3.x.zip'\n",
    "ext= '/home/fenrihen/Downloads/master.zip'\n",
    "nb.install_nbextension(ext, user=True)"
   ]
  },
  {
   "cell_type": "code",
   "execution_count": 24,
   "metadata": {
    "ExecuteTime": {
     "end_time": "2016-09-04T12:23:05.364563",
     "start_time": "2016-09-04T12:23:04.236839"
    },
    "collapsed": false
   },
   "outputs": [
    {
     "name": "stdout",
     "output_type": "stream",
     "text": [
      "/home/fenrihen/.ipython\r\n"
     ]
    }
   ],
   "source": [
    "!ipython locate"
   ]
  },
  {
   "cell_type": "code",
   "execution_count": 6,
   "metadata": {
    "ExecuteTime": {
     "end_time": "2016-09-04T12:45:08.202922",
     "start_time": "2016-09-04T12:45:08.102965"
    },
    "collapsed": false
   },
   "outputs": [
    {
     "ename": "NameError",
     "evalue": "name 'nb' is not defined",
     "output_type": "error",
     "traceback": [
      "\u001b[0;31m---------------------------------------------------------------------------\u001b[0m",
      "\u001b[0;31mNameError\u001b[0m                                 Traceback (most recent call last)",
      "\u001b[0;32m<ipython-input-6-a88b04024cdd>\u001b[0m in \u001b[0;36m<module>\u001b[0;34m()\u001b[0m\n\u001b[0;32m----> 1\u001b[0;31m \u001b[0mnb\u001b[0m\u001b[0;34m.\u001b[0m\u001b[0mcheck_nbextension\u001b[0m\u001b[0;34m(\u001b[0m\u001b[0;34m\"toc2\"\u001b[0m\u001b[0;34m)\u001b[0m\u001b[0;34m\u001b[0m\u001b[0m\n\u001b[0m",
      "\u001b[0;31mNameError\u001b[0m: name 'nb' is not defined"
     ]
    }
   ],
   "source": [
    "nb.check_nbextension(\"toc2\")"
   ]
  },
  {
   "cell_type": "markdown",
   "metadata": {},
   "source": [
    "# Eklentiyi Kalıcı Olarak Aktive Etme"
   ]
  },
  {
   "cell_type": "code",
   "execution_count": 1,
   "metadata": {
    "ExecuteTime": {
     "end_time": "2016-09-04T12:56:53.024367",
     "start_time": "2016-09-04T12:56:52.975384"
    },
    "collapsed": false
   },
   "outputs": [
    {
     "name": "stderr",
     "output_type": "stream",
     "text": [
      "/home/fenrihen/Uygulamalar/Miniconda3-3.16/lib/python3.4/site-packages/IPython/html.py:14: ShimWarning: The `IPython.html` package has been deprecated. You should import from `notebook` instead. `IPython.html.widgets` has moved to `ipywidgets`.\n",
      "  \"`IPython.html.widgets` has moved to `ipywidgets`.\", ShimWarning)\n"
     ]
    }
   ],
   "source": [
    "from IPython.html.services.config import ConfigManager\n",
    "ip = get_ipython()\n",
    "cm = ConfigManager(parent=ip, profile_dir=ip.profile_dir.location)"
   ]
  },
  {
   "cell_type": "markdown",
   "metadata": {},
   "source": [
    "## Aktifleştirme"
   ]
  },
  {
   "cell_type": "code",
   "execution_count": null,
   "metadata": {
    "collapsed": true
   },
   "outputs": [],
   "source": [
    "# Aktifleştirme\n",
    "cm.update('notebook',{\"load_extensions\":{\"/home/fenrihen/Uygulamalar/Miniconda3-3.16/share/jupyter/nbextensions/runtools/main\":True}})"
   ]
  },
  {
   "cell_type": "markdown",
   "metadata": {},
   "source": [
    "## Devre Dışı Bırakma"
   ]
  },
  {
   "cell_type": "code",
   "execution_count": 9,
   "metadata": {
    "ExecuteTime": {
     "end_time": "2016-09-04T12:51:51.086553",
     "start_time": "2016-09-04T12:51:51.063421"
    },
    "collapsed": false,
    "run_control": {
     "marked": false
    }
   },
   "outputs": [
    {
     "data": {
      "text/plain": [
       "{'load_extensions': {'/home/fenrihen/Uygulamalar/Miniconda3-3.16/lib/python3.4/site-packages/jupyter_nbextensions_configurator/static/nbextensions_configurator/main': True,\n",
       "  '/home/fenrihen/Uygulamalar/Miniconda3-3.16/lib/python3.4/site-packages/jupyter_nbextensions_configurator/static/nbextensions_configurator/tree_tab/main': True,\n",
       "  '/home/fenrihen/Uygulamalar/Miniconda3-3.16/share/jupyter/nbextensions/chrome-clipboard/main': True,\n",
       "  '/home/fenrihen/Uygulamalar/Miniconda3-3.16/share/jupyter/nbextensions/codefolding/main': True,\n",
       "  '/home/fenrihen/Uygulamalar/Miniconda3-3.16/share/jupyter/nbextensions/collapsible_headings/main': True,\n",
       "  '/home/fenrihen/Uygulamalar/Miniconda3-3.16/share/jupyter/nbextensions/comment-uncomment/main': True,\n",
       "  '/home/fenrihen/Uygulamalar/Miniconda3-3.16/share/jupyter/nbextensions/drag-drop/main': True,\n",
       "  '/home/fenrihen/Uygulamalar/Miniconda3-3.16/share/jupyter/nbextensions/dragdrop/main': True,\n",
       "  '/home/fenrihen/Uygulamalar/Miniconda3-3.16/share/jupyter/nbextensions/execute_time/ExecuteTime': True,\n",
       "  '/home/fenrihen/Uygulamalar/Miniconda3-3.16/share/jupyter/nbextensions/execute_time/main': True,\n",
       "  '/home/fenrihen/Uygulamalar/Miniconda3-3.16/share/jupyter/nbextensions/rubberband/main': True,\n",
       "  '/home/fenrihen/Uygulamalar/Miniconda3-3.16/share/jupyter/nbextensions/runtools/main': True,\n",
       "  '/home/fenrihen/Uygulamalar/Miniconda3-3.16/share/jupyter/nbextensions/scratchpad/main': True,\n",
       "  '/home/fenrihen/Uygulamalar/Miniconda3-3.16/share/jupyter/nbextensions/search-replace/main': True,\n",
       "  '/home/fenrihen/Uygulamalar/Miniconda3-3.16/share/jupyter/nbextensions/toc2/main': True,\n",
       "  '/home/fenrihen/Uygulamalar/Miniconda3-3.16/share/jupyter/nbextensions/tree-filter/index': True,\n",
       "  '/home/fenrihen/Uygulamalar/Miniconda3-3.16/share/jupyter/nbextensions/tree-filter/main': True}}"
      ]
     },
     "execution_count": 9,
     "metadata": {},
     "output_type": "execute_result"
    }
   ],
   "source": [
    "# Devre dışı bırakma\n",
    "cm.update('notebook',{\"load_extensions\":{\"/home/fenrihen/Uygulamalar/Miniconda3-3.16/share/jupyter/nbextensions/runtools/main\":None}})"
   ]
  },
  {
   "cell_type": "markdown",
   "metadata": {},
   "source": [
    "# Aktif Eklentileri Listeleme"
   ]
  },
  {
   "cell_type": "code",
   "execution_count": 2,
   "metadata": {
    "ExecuteTime": {
     "end_time": "2016-09-04T12:57:42.904281",
     "start_time": "2016-09-04T12:57:42.864324"
    },
    "collapsed": false
   },
   "outputs": [
    {
     "data": {
      "text/html": [
       "\n",
       "<table border=\"1\">\n",
       "<tr>\n",
       "<th>Extension name</th>\n",
       "</tr>\n",
       "<tr><td>/home/fenrihen/Uygulamalar/Miniconda3-3.16/share/jupyter/nbextensions/execute_time/main</td>\n",
       "<tr><td>/home/fenrihen/Uygulamalar/Miniconda3-3.16/share/jupyter/nbextensions/comment-uncomment/main</td>\n",
       "<tr><td>jupyter-js-widgets/extension</td>\n",
       "<tr><td>/home/fenrihen/Uygulamalar/Miniconda3-3.16/share/jupyter/nbextensions/collapsible_headings/main</td>\n",
       "<tr><td>/home/fenrihen/Uygulamalar/Miniconda3-3.16/share/jupyter/nbextensions/execute_time/ExecuteTime</td>\n",
       "<tr><td>/home/fenrihen/Uygulamalar/Miniconda3-3.16/lib/python3.4/site-packages/jupyter_nbextensions_configurator/static/nbextensions_configurator/main</td>\n",
       "<tr><td>/home/fenrihen/Uygulamalar/Miniconda3-3.16/share/jupyter/nbextensions/dragdrop/main</td>\n",
       "<tr><td>/home/fenrihen/Uygulamalar/Miniconda3-3.16/share/jupyter/nbextensions/rubberband/main</td>\n",
       "<tr><td>/home/fenrihen/Uygulamalar/Miniconda3-3.16/share/jupyter/nbextensions/tree-filter/main</td>\n",
       "<tr><td>/home/fenrihen/Uygulamalar/Miniconda3-3.16/share/jupyter/nbextensions/drag-drop/main</td>\n",
       "<tr><td>/home/fenrihen/Uygulamalar/Miniconda3-3.16/share/jupyter/nbextensions/toc2/main</td>\n",
       "<tr><td>/home/fenrihen/Uygulamalar/Miniconda3-3.16/share/jupyter/nbextensions/scratchpad/main</td>\n",
       "<tr><td>/home/fenrihen/Uygulamalar/Miniconda3-3.16/share/jupyter/nbextensions/tree-filter/index</td>\n",
       "<tr><td>nbextensions_configurator/config_menu/main</td>\n",
       "<tr><td>/home/fenrihen/Uygulamalar/Miniconda3-3.16/share/jupyter/nbextensions/chrome-clipboard/main</td>\n",
       "<tr><td>/home/fenrihen/Uygulamalar/Miniconda3-3.16/share/jupyter/nbextensions/codefolding/main</td>\n",
       "<tr><td>/home/fenrihen/Uygulamalar/Miniconda3-3.16/share/jupyter/nbextensions/runtools/main</td>\n",
       "<tr><td>/home/fenrihen/Uygulamalar/Miniconda3-3.16/lib/python3.4/site-packages/jupyter_nbextensions_configurator/static/nbextensions_configurator/tree_tab/main</td>\n",
       "<tr><td>/home/fenrihen/Uygulamalar/Miniconda3-3.16/share/jupyter/nbextensions/search-replace/main</td>\n",
       "\n",
       "</table>\n"
      ],
      "text/plain": [
       "<IPython.core.display.HTML object>"
      ]
     },
     "execution_count": 2,
     "metadata": {},
     "output_type": "execute_result"
    }
   ],
   "source": [
    "from IPython.html.services.config import ConfigManager\n",
    "from IPython.display import HTML\n",
    "ip = get_ipython()\n",
    "cm = ConfigManager(parent=ip, profile_dir=ip.profile_dir.location)\n",
    "extensions =cm.get('notebook')\n",
    "table = \"\"\n",
    "for ext in extensions['load_extensions']:\n",
    "    table += \"<tr><td>%s</td>\\n\" % (ext)\n",
    "top = \"\"\"\n",
    "<table border=\"1\">\n",
    "<tr>\n",
    "<th>Extension name</th>\n",
    "</tr>\n",
    "\"\"\"\n",
    "bottom = \"\"\"\n",
    "</table>\n",
    "\"\"\"\n",
    "HTML(top + table + bottom)"
   ]
  },
  {
   "cell_type": "code",
   "execution_count": null,
   "metadata": {
    "collapsed": true
   },
   "outputs": [],
   "source": []
  }
 ],
 "metadata": {
  "kernelspec": {
   "display_name": "Python 3",
   "language": "python",
   "name": "python3"
  },
  "language_info": {
   "codemirror_mode": {
    "name": "ipython",
    "version": 3
   },
   "file_extension": ".py",
   "mimetype": "text/x-python",
   "name": "python",
   "nbconvert_exporter": "python",
   "pygments_lexer": "ipython3",
   "version": "3.4.5"
  },
  "nav_menu": {},
  "toc": {
   "navigate_menu": true,
   "number_sections": true,
   "sideBar": true,
   "threshold": 6,
   "toc_cell": false,
   "toc_section_display": "block",
   "toc_window_display": false
  }
 },
 "nbformat": 4,
 "nbformat_minor": 0
}
